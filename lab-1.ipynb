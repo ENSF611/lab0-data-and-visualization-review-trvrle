{
 "cells": [
  {
   "cell_type": "code",
   "execution_count": 7,
   "metadata": {},
   "outputs": [
    {
     "name": "stdout",
     "output_type": "stream",
     "text": [
      "Python version: 3.10.6 | packaged by conda-forge | (main, Aug 22 2022, 20:38:29) [Clang 13.0.1 ]\n",
      "pandas version: 1.5.0\n",
      "matplotlib version: 3.6.0\n",
      "NumPy version: 1.23.3\n",
      "SciPy version 1.9.1\n",
      "IPython version: 8.5.0\n",
      "scikit-learn version: 1.1.2\n",
      "yellowbrick version: 1.3.post1\n"
     ]
    }
   ],
   "source": [
    "import sys\n",
    "print(\"Python version:\", sys.version)\n",
    "\n",
    "import pandas as pd\n",
    "print(\"pandas version:\", pd.__version__)\n",
    "\n",
    "import matplotlib\n",
    "print(\"matplotlib version:\", matplotlib.__version__)\n",
    "\n",
    "import numpy as np\n",
    "print(\"NumPy version:\", np.__version__)\n",
    "\n",
    "import scipy as sp\n",
    "print(\"SciPy version\", sp.__version__)\n",
    "\n",
    "import IPython\n",
    "print(\"IPython version:\", IPython.__version__)\n",
    "\n",
    "import sklearn\n",
    "print(\"scikit-learn version:\", sklearn.__version__)\n",
    "\n",
    "import yellowbrick\n",
    "print(\"yellowbrick version:\", yellowbrick.__version__)"
   ]
  },
  {
   "cell_type": "code",
   "execution_count": 9,
   "metadata": {},
   "outputs": [
    {
     "name": "stdout",
     "output_type": "stream",
     "text": [
      "\n",
      "     active environment : ensf-ml\n",
      "    active env location : /opt/homebrew/Caskroom/miniforge/base/envs/ensf-ml\n",
      "            shell level : 2\n",
      "       user config file : /Users/trevo/.condarc\n",
      " populated config files : /opt/homebrew/Caskroom/miniforge/base/.condarc\n",
      "          conda version : 4.14.0\n",
      "    conda-build version : not installed\n",
      "         python version : 3.10.6.final.0\n",
      "       virtual packages : __osx=12.6=0\n",
      "                          __unix=0=0\n",
      "                          __archspec=1=arm64\n",
      "       base environment : /opt/homebrew/Caskroom/miniforge/base  (writable)\n",
      "      conda av data dir : /opt/homebrew/Caskroom/miniforge/base/etc/conda\n",
      "  conda av metadata url : None\n",
      "           channel URLs : https://conda.anaconda.org/conda-forge/osx-arm64\n",
      "                          https://conda.anaconda.org/conda-forge/noarch\n",
      "          package cache : /opt/homebrew/Caskroom/miniforge/base/pkgs\n",
      "                          /Users/trevo/.conda/pkgs\n",
      "       envs directories : /opt/homebrew/Caskroom/miniforge/base/envs\n",
      "                          /Users/trevo/.conda/envs\n",
      "               platform : osx-arm64\n",
      "             user-agent : conda/4.14.0 requests/2.28.1 CPython/3.10.6 Darwin/21.6.0 OSX/12.6\n",
      "                UID:GID : 501:20\n",
      "             netrc file : None\n",
      "           offline mode : False\n",
      "\n",
      "\n",
      "Note: you may need to restart the kernel to use updated packages.\n"
     ]
    }
   ],
   "source": [
    "conda info "
   ]
  }
 ],
 "metadata": {
  "kernelspec": {
   "display_name": "Python 3.10.6 ('ensf-ml')",
   "language": "python",
   "name": "python3"
  },
  "language_info": {
   "codemirror_mode": {
    "name": "ipython",
    "version": 3
   },
   "file_extension": ".py",
   "mimetype": "text/x-python",
   "name": "python",
   "nbconvert_exporter": "python",
   "pygments_lexer": "ipython3",
   "version": "3.10.6"
  },
  "orig_nbformat": 4,
  "vscode": {
   "interpreter": {
    "hash": "176023f210cd6cb85d2b194b686f9790b7f4a9fe23aa7f74b3bc8afadf874342"
   }
  }
 },
 "nbformat": 4,
 "nbformat_minor": 2
}
