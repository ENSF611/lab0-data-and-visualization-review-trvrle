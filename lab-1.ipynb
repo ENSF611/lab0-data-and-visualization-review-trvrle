{
 "cells": [],
 "metadata": {
  "kernelspec": {
   "display_name": "Python 3.10.6 ('ensf-ml')",
   "language": "python",
   "name": "python3"
  },
  "language_info": {
   "codemirror_mode": {
    "name": "ipython",
    "version": 3
   },
   "file_extension": ".py",
   "mimetype": "text/x-python",
   "name": "python",
   "nbconvert_exporter": "python",
   "pygments_lexer": "ipython3",
   "version": "3.10.6"
  },
  "orig_nbformat": 4,
  "vscode": {
   "interpreter": {
    "hash": "176023f210cd6cb85d2b194b686f9790b7f4a9fe23aa7f74b3bc8afadf874342"
   }
  }
 },
 "nbformat": 4,
 "nbformat_minor": 2
}
